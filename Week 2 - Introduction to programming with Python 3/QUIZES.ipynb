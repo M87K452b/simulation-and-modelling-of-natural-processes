{
 "cells": [
  {
   "cell_type": "code",
   "execution_count": 1,
   "metadata": {},
   "outputs": [
    {
     "data": {
      "text/plain": [
       "-1.0"
      ]
     },
     "execution_count": 1,
     "metadata": {},
     "output_type": "execute_result"
    }
   ],
   "source": [
    "a = 2\n",
    "b=3\n",
    "c=-1\n",
    "d = -0.5\n",
    "-b//a-(-1)*c*b/d**c%c%d + (0 and 1 or not 0)"
   ]
  },
  {
   "cell_type": "code",
   "execution_count": 6,
   "metadata": {},
   "outputs": [
    {
     "name": "stdout",
     "output_type": "stream",
     "text": [
      "[40, 2, 4]\n"
     ]
    }
   ],
   "source": [
    "a = 10\n",
    "b = 20\n",
    "c = (a if a>b else b)*2\n",
    "d = list(range(10))\n",
    "d[0] = c\n",
    "print(d[0:6:2])"
   ]
  },
  {
   "cell_type": "code",
   "execution_count": 3,
   "metadata": {},
   "outputs": [
    {
     "name": "stdout",
     "output_type": "stream",
     "text": [
      "29\n"
     ]
    }
   ],
   "source": [
    "def foo(x):\n",
    "    x += 1\n",
    "    if x<20:\n",
    "        return foo(x)+1\n",
    "    else:\n",
    "        return x\n",
    "\n",
    "x = 10\n",
    "print(foo(x))"
   ]
  },
  {
   "cell_type": "code",
   "execution_count": 4,
   "metadata": {},
   "outputs": [
    {
     "name": "stdout",
     "output_type": "stream",
     "text": [
      "[2, 20, 30]\n",
      "[2, 20, 30]\n",
      "[1, 2, 3, 4]\n",
      "[2, 20, 30]\n"
     ]
    }
   ],
   "source": [
    "def change1(mylist):\n",
    "    mylist[0] = 2\n",
    "    print(mylist)\n",
    "    return\n",
    "\n",
    "def change2(mylist):\n",
    "    mylist = [1,2,3,4]\n",
    "    print(mylist)\n",
    "    return\n",
    "\n",
    "mylist = [10,20,30]\n",
    "change1(mylist)\n",
    "print(mylist)\n",
    "change2(mylist)\n",
    "print(mylist)"
   ]
  },
  {
   "cell_type": "code",
   "execution_count": 5,
   "metadata": {},
   "outputs": [
    {
     "name": "stdout",
     "output_type": "stream",
     "text": [
      "[[4 5 6 7]\n",
      " [0 1 2 3]]\n"
     ]
    }
   ],
   "source": [
    "import numpy as np\n",
    "x1 = np.arange(8)\n",
    "x2 = np.reshape(x1,(2,4))\n",
    "print(np.roll(x2,1,axis=0))"
   ]
  },
  {
   "cell_type": "code",
   "execution_count": 7,
   "metadata": {},
   "outputs": [],
   "source": [
    "d = list(range(10))"
   ]
  },
  {
   "cell_type": "code",
   "execution_count": 8,
   "metadata": {},
   "outputs": [
    {
     "name": "stdout",
     "output_type": "stream",
     "text": [
      "[0, 1, 2, 3, 4, 5, 6, 7, 8, 9]\n"
     ]
    }
   ],
   "source": [
    "print(d)"
   ]
  },
  {
   "cell_type": "code",
   "execution_count": 18,
   "metadata": {},
   "outputs": [
    {
     "name": "stdout",
     "output_type": "stream",
     "text": [
      "[0, 2, 4]\n"
     ]
    }
   ],
   "source": [
    "print(d[0:6:2])"
   ]
  },
  {
   "cell_type": "markdown",
   "metadata": {},
   "source": [
    "## QUIZ 2"
   ]
  },
  {
   "cell_type": "code",
   "execution_count": 17,
   "metadata": {},
   "outputs": [
    {
     "name": "stdout",
     "output_type": "stream",
     "text": [
      "The number of piles remaining are:  1\n"
     ]
    }
   ],
   "source": [
    "import numpy as np\n",
    "import random\n",
    "\n",
    "numberOfPiles = 10\n",
    "maxIter = 1000000\n",
    "\n",
    "piles = np.empty(numberOfPiles)\n",
    "piles.fill(numberOfPiles)\n",
    "totPiles = np.sum(piles)\n",
    "numPiles = numberOfPiles\n",
    "x = 0;\n",
    "while (x < maxIter and piles.size > 1):\n",
    "    piles = piles[np.nonzero(piles)]\n",
    "    for i in np.arange(piles.size):\n",
    "        piles[i] -= 1\n",
    "        num = np.random.randint(piles.size)\n",
    "        piles[num] += 1\n",
    "    numPiles = piles.size\n",
    "    x += 1\n",
    "\n",
    "\n",
    "print(\"The number of piles remaining are: \", numPiles)"
   ]
  },
  {
   "cell_type": "markdown",
   "metadata": {},
   "source": [
    "## QUIZ 3"
   ]
  },
  {
   "cell_type": "code",
   "execution_count": 36,
   "metadata": {},
   "outputs": [
    {
     "name": "stdout",
     "output_type": "stream",
     "text": [
      "0.76374\n"
     ]
    }
   ],
   "source": [
    "import numpy as np\n",
    "import math\n",
    "\n",
    "xMin= 1\n",
    "xMax=3\n",
    "N= 200000\n",
    "\n",
    "class Integrator:\n",
    "    def __init__(self, xMin, xMax, N):\n",
    "        self.xMin = xMin\n",
    "        self.xMax = xMax\n",
    "        self.N = N\n",
    "        self.S = 0\n",
    "    \n",
    "            \n",
    "    def integrate(self):       \n",
    "        dx = (self.xMax-self.xMin)/self.N\n",
    "        x = np.arange(self.xMin, self.xMax, dx)\n",
    "        fx = (x**2)*np.exp(-x)*np.sin(x)\n",
    "        return sum(fx*dx)\n",
    "        \n",
    "    def show(self):\n",
    "        print(round(self.integrate(),5))\n",
    "\n",
    "        \n",
    "\n",
    "examp = Integrator(1,3,200000)\n",
    "examp.integrate()\n",
    "examp.show()"
   ]
  },
  {
   "cell_type": "code",
   "execution_count": null,
   "metadata": {},
   "outputs": [],
   "source": []
  },
  {
   "cell_type": "code",
   "execution_count": null,
   "metadata": {},
   "outputs": [],
   "source": []
  }
 ],
 "metadata": {
  "kernelspec": {
   "display_name": "Python 3",
   "language": "python",
   "name": "python3"
  },
  "language_info": {
   "codemirror_mode": {
    "name": "ipython",
    "version": 3
   },
   "file_extension": ".py",
   "mimetype": "text/x-python",
   "name": "python",
   "nbconvert_exporter": "python",
   "pygments_lexer": "ipython3",
   "version": "3.8.3"
  }
 },
 "nbformat": 4,
 "nbformat_minor": 4
}
